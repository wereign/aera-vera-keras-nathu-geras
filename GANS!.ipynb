{
  "nbformat": 4,
  "nbformat_minor": 0,
  "metadata": {
    "colab": {
      "provenance": [],
      "authorship_tag": "ABX9TyMbCMZ7+NG3qqNlMMmoI5QA",
      "include_colab_link": true
    },
    "kernelspec": {
      "name": "python3",
      "display_name": "Python 3"
    },
    "language_info": {
      "name": "python"
    }
  },
  "cells": [
    {
      "cell_type": "markdown",
      "metadata": {
        "id": "view-in-github",
        "colab_type": "text"
      },
      "source": [
        "<a href=\"https://colab.research.google.com/github/wereign/aera-vera-keras-nathu-geras/blob/main/GANS!.ipynb\" target=\"_parent\"><img src=\"https://colab.research.google.com/assets/colab-badge.svg\" alt=\"Open In Colab\"/></a>"
      ]
    },
    {
      "cell_type": "markdown",
      "source": [
        "# Data Section  \n",
        "Working only on a single digit for now"
      ],
      "metadata": {
        "id": "NTj-AF9mOfQM"
      }
    },
    {
      "cell_type": "code",
      "execution_count": 2,
      "metadata": {
        "id": "e2Sy3zXUOcOZ"
      },
      "outputs": [],
      "source": [
        "import numpy as np\n",
        "import pandas as pd\n",
        "import matplotlib.pyplot as plt\n",
        "import seaborn as sns"
      ]
    },
    {
      "cell_type": "code",
      "source": [
        "from tensorflow.keras.datasets import mnist"
      ],
      "metadata": {
        "id": "vW3l-Vb2OkxP"
      },
      "execution_count": 4,
      "outputs": []
    },
    {
      "cell_type": "code",
      "source": [
        "(X_train,y_train),(X_test,y_test) = mnist.load_data()"
      ],
      "metadata": {
        "colab": {
          "base_uri": "https://localhost:8080/"
        },
        "id": "yHNy0erbOv0X",
        "outputId": "f01eeeb6-611e-4707-ea43-9c49182507d3"
      },
      "execution_count": 5,
      "outputs": [
        {
          "output_type": "stream",
          "name": "stdout",
          "text": [
            "Downloading data from https://storage.googleapis.com/tensorflow/tf-keras-datasets/mnist.npz\n",
            "11490434/11490434 [==============================] - 0s 0us/step\n"
          ]
        }
      ]
    },
    {
      "cell_type": "code",
      "source": [
        "plt.imshow(X_train[0])"
      ],
      "metadata": {
        "colab": {
          "base_uri": "https://localhost:8080/",
          "height": 448
        },
        "id": "SEcx8VRqO33i",
        "outputId": "0a3cbde4-711f-4521-fbdb-2db312bbcdcc"
      },
      "execution_count": 6,
      "outputs": [
        {
          "output_type": "execute_result",
          "data": {
            "text/plain": [
              "<matplotlib.image.AxesImage at 0x7f84577e4ca0>"
            ]
          },
          "metadata": {},
          "execution_count": 6
        },
        {
          "output_type": "display_data",
          "data": {
            "text/plain": [
              "<Figure size 640x480 with 1 Axes>"
            ],
            "image/png": "[encoded data removed]"
          },
          "metadata": {}
        }
      ]
    },
    {
      "cell_type": "code",
      "source": [
        "y_train[0]"
      ],
      "metadata": {
        "colab": {
          "base_uri": "https://localhost:8080/"
        },
        "id": "dCoiK4ucO7N5",
        "outputId": "e8c58794-24cc-44aa-97d0-6ca2ebccc4f6"
      },
      "execution_count": 7,
      "outputs": [
        {
          "output_type": "execute_result",
          "data": {
            "text/plain": [
              "5"
            ]
          },
          "metadata": {},
          "execution_count": 7
        }
      ]
    },
    {
      "cell_type": "code",
      "source": [
        "# filtering out the images where the label is 0\n",
        "only_zeros = X_train[y_train==0]"
      ],
      "metadata": {
        "id": "3S71S4O1O_CI"
      },
      "execution_count": 8,
      "outputs": []
    },
    {
      "cell_type": "code",
      "source": [
        "only_zeros.shape"
      ],
      "metadata": {
        "colab": {
          "base_uri": "https://localhost:8080/"
        },
        "id": "UtoCJKWzPNZH",
        "outputId": "147c7a5e-1d07-4e98-87cb-e328abdb0537"
      },
      "execution_count": 9,
      "outputs": [
        {
          "output_type": "execute_result",
          "data": {
            "text/plain": [
              "(5923, 28, 28)"
            ]
          },
          "metadata": {},
          "execution_count": 9
        }
      ]
    },
    {
      "cell_type": "code",
      "source": [
        "plt.imshow(only_zeros[10])"
      ],
      "metadata": {
        "colab": {
          "base_uri": "https://localhost:8080/",
          "height": 448
        },
        "id": "qPbPD-HfPPfD",
        "outputId": "6aa73512-e1b9-4ec4-ff11-0f1600a3a28b"
      },
      "execution_count": 11,
      "outputs": [
        {
          "output_type": "execute_result",
          "data": {
            "text/plain": [
              "<matplotlib.image.AxesImage at 0x7f84543242e0>"
            ]
          },
          "metadata": {},
          "execution_count": 11
        },
        {
          "output_type": "display_data",
          "data": {
            "text/plain": [
              "<Figure size 640x480 with 1 Axes>"
            ],
            "image/png": "[encoded data removed]"
          },
          "metadata": {}
        }
      ]
    },
    {
      "cell_type": "markdown",
      "source": [
        "# Creating the model!\n",
        "\n",
        "The model will have 2 smaller pieces"
      ],
      "metadata": {
        "id": "dFL4iUEZPhBT"
      }
    },
    {
      "cell_type": "code",
      "source": [
        "from tensorflow.keras.models import Sequential\n",
        "from tensorflow.keras.layers import Dense,Reshape,Flatten\n",
        "import tensorflow as tf"
      ],
      "metadata": {
        "id": "JrtoQE_CP4_a"
      },
      "execution_count": 13,
      "outputs": []
    },
    {
      "cell_type": "markdown",
      "source": [
        "## Discriminator"
      ],
      "metadata": {
        "id": "Ky4G6z3PPn6u"
      }
    },
    {
      "cell_type": "code",
      "source": [
        "discriminator = Sequential()\n",
        "discriminator.add(Flatten(input_shape=[28,28]))\n",
        "discriminator.add(Dense(150,activation='relu'))\n",
        "discriminator.add(Dense(100,activation='relu'))\n",
        "# output layer\n",
        "discriminator.add(Dense(1,activation='sigmoid'))\n",
        "\n",
        "discriminator.compile(loss='binary_crossentropy',optimizer='adam')"
      ],
      "metadata": {
        "id": "B3ZB6dYWPRuJ"
      },
      "execution_count": 14,
      "outputs": []
    },
    {
      "cell_type": "code",
      "source": [
        "codings_size = 100\n",
        "\n",
        "generator = Sequential()\n",
        "generator.add(Dense(100,activation='relu',input_shape=[codings_size]))\n",
        "generator.add(Dense(150,activation='relu'))\n",
        "generator.add(Dense(784,activation='relu'))\n",
        "generator.add(Reshape([28,28]))\n"
      ],
      "metadata": {
        "id": "8i2zsdxnQiTM"
      },
      "execution_count": 15,
      "outputs": []
    },
    {
      "cell_type": "markdown",
      "source": [
        "we don't compile the generator, since its only training through the gan model."
      ],
      "metadata": {
        "id": "sZ-s1Tr-RmlB"
      }
    },
    {
      "cell_type": "code",
      "source": [
        "GAN = Sequential([generator,discriminator])"
      ],
      "metadata": {
        "id": "DhjZYRuHRkHo"
      },
      "execution_count": 16,
      "outputs": []
    },
    {
      "cell_type": "code",
      "source": [
        "discriminator.trainable = False"
      ],
      "metadata": {
        "id": "T7ew92koRsEj"
      },
      "execution_count": 17,
      "outputs": []
    },
    {
      "cell_type": "code",
      "source": [
        "GAN.compile(loss='binary_crossentropy',optimizer='adam')"
      ],
      "metadata": {
        "id": "EbeU6cEfRt_8"
      },
      "execution_count": 35,
      "outputs": []
    },
    {
      "cell_type": "markdown",
      "source": [
        "# Training batches"
      ],
      "metadata": {
        "id": "2XgBRNGaVs28"
      }
    },
    {
      "cell_type": "code",
      "source": [
        "batch_size = 32"
      ],
      "metadata": {
        "id": "QzzKGL2-Ry7c"
      },
      "execution_count": 36,
      "outputs": []
    },
    {
      "cell_type": "code",
      "source": [
        "dataset = only_zeros"
      ],
      "metadata": {
        "id": "Vk4fUfUgV5wv"
      },
      "execution_count": 37,
      "outputs": []
    },
    {
      "cell_type": "code",
      "source": [
        "dataset = tf.data.Dataset.from_tensor_slices(dataset).shuffle(buffer_size=1000)"
      ],
      "metadata": {
        "id": "CjnLItlMV8Ik"
      },
      "execution_count": 38,
      "outputs": []
    },
    {
      "cell_type": "code",
      "source": [
        "type(dataset)"
      ],
      "metadata": {
        "colab": {
          "base_uri": "https://localhost:8080/"
        },
        "id": "C39g1sIaWIcu",
        "outputId": "9a1265c2-9373-4ce6-c7d6-569a543f5bb4"
      },
      "execution_count": 39,
      "outputs": [
        {
          "output_type": "execute_result",
          "data": {
            "text/plain": [
              "tensorflow.python.data.ops.shuffle_op._ShuffleDataset"
            ]
          },
          "metadata": {},
          "execution_count": 39
        }
      ]
    },
    {
      "cell_type": "code",
      "source": [
        "dataset = dataset.batch(batch_size,drop_remainder=True).prefetch(1)"
      ],
      "metadata": {
        "id": "vovHwL97WNE5"
      },
      "execution_count": 40,
      "outputs": []
    },
    {
      "cell_type": "code",
      "source": [
        "epochs = 5"
      ],
      "metadata": {
        "id": "u0Xz5_mWWhSJ"
      },
      "execution_count": 57,
      "outputs": []
    },
    {
      "cell_type": "code",
      "source": [
        "GAN.layers[0].layers"
      ],
      "metadata": {
        "colab": {
          "base_uri": "https://localhost:8080/"
        },
        "id": "ItrudSgXWiWP",
        "outputId": "46107183-e1b4-49d0-d74f-51e8a2242336"
      },
      "execution_count": 58,
      "outputs": [
        {
          "output_type": "execute_result",
          "data": {
            "text/plain": [
              "[<keras.layers.core.dense.Dense at 0x7f845431d3c0>,\n",
              " <keras.layers.core.dense.Dense at 0x7f8453cad180>,\n",
              " <keras.layers.core.dense.Dense at 0x7f8453caf970>,\n",
              " <keras.layers.reshaping.reshape.Reshape at 0x7f8453cafd00>]"
            ]
          },
          "metadata": {},
          "execution_count": 58
        }
      ]
    },
    {
      "cell_type": "code",
      "source": [
        "GAN.layers[1].layers"
      ],
      "metadata": {
        "colab": {
          "base_uri": "https://localhost:8080/"
        },
        "id": "aB9bZih8Wnfq",
        "outputId": "d7e6b84b-d4fd-4797-c076-0121e908459e"
      },
      "execution_count": 59,
      "outputs": [
        {
          "output_type": "execute_result",
          "data": {
            "text/plain": [
              "[<keras.layers.reshaping.flatten.Flatten at 0x7f84539489d0>,\n",
              " <keras.layers.core.dense.Dense at 0x7f845431df90>,\n",
              " <keras.layers.core.dense.Dense at 0x7f845431ec80>,\n",
              " <keras.layers.core.dense.Dense at 0x7f8453cac2e0>]"
            ]
          },
          "metadata": {},
          "execution_count": 59
        }
      ]
    },
    {
      "cell_type": "code",
      "source": [
        "generator, discriminator = GAN.layers"
      ],
      "metadata": {
        "id": "wZgkygV5WveP"
      },
      "execution_count": 60,
      "outputs": []
    },
    {
      "cell_type": "code",
      "source": [
        "for epoch in range(epochs):\n",
        "\n",
        "  print(f\"Currently on epoch: {epoch+1}\")\n",
        "\n",
        "  i = 0\n",
        "\n",
        "  for X_batch in dataset:\n",
        "\n",
        "    i += 1\n",
        "    if i%100 == 0:\n",
        "      print(f\"\\tCurrently on batch number: {i}\")\n",
        "\n",
        "    # Discriminator training phase\n",
        "\n",
        "    noise = tf.random.normal(shape=[batch_size,codings_size])\n",
        "\n",
        "    gen_images = generator(noise) # generator is making images from this noise\n",
        "\n",
        "    X_fake_vs_real = tf.concat([gen_images,\n",
        "                                tf.dtypes.cast(X_batch,tf.float32)],\n",
        "                               axis=0)\n",
        "    \n",
        "    y1 = tf.constant([[0.0]]*batch_size + [[1.0]]*batch_size)\n",
        "\n",
        "    discriminator.trainable = True\n",
        "\n",
        "    discriminator.train_on_batch(X_fake_vs_real,y1)\n",
        "\n",
        "\n",
        "    # TRAIN GENERATOR\n",
        "    noise = tf.random.normal(shape=[batch_size,codings_size])\n",
        "    y2 = tf.constant([[1.0]]*batch_size)\n",
        "\n",
        "    discriminator.trainable = False\n",
        "    GAN.train_on_batch(noise,y2)\n"
      ],
      "metadata": {
        "colab": {
          "base_uri": "https://localhost:8080/"
        },
        "id": "NZYG1MWvW_-k",
        "outputId": "efa53b94-14d9-46ab-f4d1-1dd8b7d36725"
      },
      "execution_count": 61,
      "outputs": [
        {
          "output_type": "stream",
          "name": "stdout",
          "text": [
            "Currently on epoch: 1\n",
            "\tCurrently on batch number: 100\n",
            "Currently on epoch: 2\n",
            "\tCurrently on batch number: 100\n",
            "Currently on epoch: 3\n",
            "\tCurrently on batch number: 100\n",
            "Currently on epoch: 4\n",
            "\tCurrently on batch number: 100\n",
            "Currently on epoch: 5\n",
            "\tCurrently on batch number: 100\n"
          ]
        }
      ]
    },
    {
      "cell_type": "code",
      "source": [
        "[[0.0]]*batch_size + [[1.0]]*batch_size"
      ],
      "metadata": {
        "colab": {
          "base_uri": "https://localhost:8080/"
        },
        "id": "D-dHvLh3YvAx",
        "outputId": "b0a5a638-7dd0-409f-b4d6-414797768ac6"
      },
      "execution_count": 62,
      "outputs": [
        {
          "output_type": "execute_result",
          "data": {
            "text/plain": [
              "[[0.0],\n",
              " [0.0],\n",
              " [0.0],\n",
              " [0.0],\n",
              " [0.0],\n",
              " [0.0],\n",
              " [0.0],\n",
              " [0.0],\n",
              " [0.0],\n",
              " [0.0],\n",
              " [0.0],\n",
              " [0.0],\n",
              " [0.0],\n",
              " [0.0],\n",
              " [0.0],\n",
              " [0.0],\n",
              " [0.0],\n",
              " [0.0],\n",
              " [0.0],\n",
              " [0.0],\n",
              " [0.0],\n",
              " [0.0],\n",
              " [0.0],\n",
              " [0.0],\n",
              " [0.0],\n",
              " [0.0],\n",
              " [0.0],\n",
              " [0.0],\n",
              " [0.0],\n",
              " [0.0],\n",
              " [0.0],\n",
              " [0.0],\n",
              " [1.0],\n",
              " [1.0],\n",
              " [1.0],\n",
              " [1.0],\n",
              " [1.0],\n",
              " [1.0],\n",
              " [1.0],\n",
              " [1.0],\n",
              " [1.0],\n",
              " [1.0],\n",
              " [1.0],\n",
              " [1.0],\n",
              " [1.0],\n",
              " [1.0],\n",
              " [1.0],\n",
              " [1.0],\n",
              " [1.0],\n",
              " [1.0],\n",
              " [1.0],\n",
              " [1.0],\n",
              " [1.0],\n",
              " [1.0],\n",
              " [1.0],\n",
              " [1.0],\n",
              " [1.0],\n",
              " [1.0],\n",
              " [1.0],\n",
              " [1.0],\n",
              " [1.0],\n",
              " [1.0],\n",
              " [1.0],\n",
              " [1.0]]"
            ]
          },
          "metadata": {},
          "execution_count": 62
        }
      ]
    },
    {
      "cell_type": "code",
      "source": [
        "noise = tf.random.normal(shape=[10,codings_size])"
      ],
      "metadata": {
        "id": "KIB2f8tNYvdM"
      },
      "execution_count": 63,
      "outputs": []
    },
    {
      "cell_type": "code",
      "source": [
        "noise.shape"
      ],
      "metadata": {
        "colab": {
          "base_uri": "https://localhost:8080/"
        },
        "id": "me9gDLcJaZ7u",
        "outputId": "2db89258-6eab-4fd2-9c50-8f3cd5de5b98"
      },
      "execution_count": 64,
      "outputs": [
        {
          "output_type": "execute_result",
          "data": {
            "text/plain": [
              "TensorShape([10, 100])"
            ]
          },
          "metadata": {},
          "execution_count": 64
        }
      ]
    },
    {
      "cell_type": "code",
      "source": [
        "plt.imshow(noise)"
      ],
      "metadata": {
        "colab": {
          "base_uri": "https://localhost:8080/",
          "height": 131
        },
        "id": "wPAm760Kaa2p",
        "outputId": "940a2771-da2a-4f3b-9b55-3bb6c3a0ddcd"
      },
      "execution_count": 65,
      "outputs": [
        {
          "output_type": "execute_result",
          "data": {
            "text/plain": [
              "<matplotlib.image.AxesImage at 0x7f8441557520>"
            ]
          },
          "metadata": {},
          "execution_count": 65
        },
        {
          "output_type": "display_data",
          "data": {
            "text/plain": [
              "<Figure size 640x480 with 1 Axes>"
            ],
            "image/png": "[encoded data removed]"
          },
          "metadata": {}
        }
      ]
    },
    {
      "cell_type": "code",
      "source": [
        "images = generator(noise)"
      ],
      "metadata": {
        "id": "NhueO9ezabz0"
      },
      "execution_count": 66,
      "outputs": []
    },
    {
      "cell_type": "code",
      "source": [
        "images.shape"
      ],
      "metadata": {
        "colab": {
          "base_uri": "https://localhost:8080/"
        },
        "id": "3RGLX8qJaeDb",
        "outputId": "d21f0d68-ee40-40a2-fd5d-d1761a11696d"
      },
      "execution_count": 67,
      "outputs": [
        {
          "output_type": "execute_result",
          "data": {
            "text/plain": [
              "TensorShape([10, 28, 28])"
            ]
          },
          "metadata": {},
          "execution_count": 67
        }
      ]
    },
    {
      "cell_type": "code",
      "source": [
        "images[0]"
      ],
      "metadata": {
        "colab": {
          "base_uri": "https://localhost:8080/"
        },
        "id": "m8BpI1dAae7V",
        "outputId": "03b6e060-990b-4365-c6d7-d5d4eeb925c9"
      },
      "execution_count": 68,
      "outputs": [
        {
          "output_type": "execute_result",
          "data": {
            "text/plain": [
              "<tf.Tensor: shape=(28, 28), dtype=float32, numpy=\n",
              "array([[ 0.        ,  0.        ,  0.        ,  0.        ,  0.        ,\n",
              "         0.        ,  0.        ,  0.        ,  0.        ,  0.        ,\n",
              "         0.        ,  0.        ,  0.        ,  0.        ,  0.        ,\n",
              "         0.        ,  0.        ,  0.        ,  0.        ,  0.        ,\n",
              "         0.        ,  0.        ,  0.        ,  0.        ,  0.        ,\n",
              "         0.        ,  0.        ,  0.        ],\n",
              "       [ 0.        ,  0.        ,  0.        ,  0.        ,  0.        ,\n",
              "         0.        ,  0.        ,  0.        ,  0.        ,  0.        ,\n",
              "         0.        ,  0.        ,  0.        ,  0.        ,  0.        ,\n",
              "         0.        ,  0.        ,  0.        ,  0.        ,  0.        ,\n",
              "         0.        ,  0.        ,  0.        ,  0.        ,  0.        ,\n",
              "         0.        ,  0.        ,  0.        ],\n",
              "       [ 0.        ,  0.        ,  0.        ,  0.        ,  0.        ,\n",
              "         0.        ,  0.        ,  0.        ,  0.        ,  0.        ,\n",
              "         0.        ,  0.        ,  0.        ,  0.        ,  0.        ,\n",
              "         0.        ,  0.        ,  0.        ,  0.        ,  0.        ,\n",
              "         0.        ,  0.        ,  0.        ,  0.        ,  0.        ,\n",
              "         0.        ,  0.        ,  0.        ],\n",
              "       [ 0.        ,  0.        ,  0.        ,  0.        ,  0.        ,\n",
              "         0.        ,  0.        ,  0.        ,  0.        ,  0.        ,\n",
              "         0.        ,  0.        ,  0.        ,  0.        ,  0.        ,\n",
              "         0.        ,  0.        ,  0.        ,  0.        ,  0.        ,\n",
              "         0.        ,  0.        ,  0.        ,  0.        ,  0.        ,\n",
              "         0.        ,  0.        ,  0.        ],\n",
              "       [ 0.        ,  0.        ,  0.        ,  0.        ,  0.        ,\n",
              "         0.        ,  0.        ,  0.        ,  0.        ,  0.        ,\n",
              "         0.        ,  0.        ,  0.        ,  0.        ,  0.        ,\n",
              "         0.        ,  0.        ,  0.        ,  0.        ,  0.        ,\n",
              "         0.        ,  0.        ,  0.        ,  0.        ,  0.        ,\n",
              "         0.        ,  0.        ,  0.        ],\n",
              "       [ 0.        ,  0.        ,  0.        ,  0.        ,  0.        ,\n",
              "         0.        ,  0.        ,  0.        ,  0.        ,  0.        ,\n",
              "         6.065015  ,  0.        , 11.395791  ,  0.        ,  0.        ,\n",
              "         0.        ,  3.2076356 ,  5.208626  ,  6.703823  ,  0.        ,\n",
              "         0.        ,  0.        ,  0.        ,  0.        ,  0.        ,\n",
              "         0.        ,  0.        ,  0.        ],\n",
              "       [ 0.        ,  0.        ,  0.        ,  0.        ,  0.        ,\n",
              "         0.        ,  0.        ,  0.        ,  0.        ,  0.        ,\n",
              "         0.        ,  0.        ,  8.460277  ,  0.10769369,  0.        ,\n",
              "         0.        ,  4.694493  ,  8.965276  ,  0.        ,  0.        ,\n",
              "         0.        ,  0.        ,  0.        ,  2.3177516 ,  1.1653671 ,\n",
              "         0.        ,  0.        ,  0.        ],\n",
              "       [ 0.        ,  0.        ,  0.        ,  0.        ,  0.        ,\n",
              "         0.        ,  0.        ,  0.        ,  0.36029345,  0.        ,\n",
              "         2.3459506 ,  0.        ,  0.672274  ,  1.9169871 ,  0.43214276,\n",
              "         6.8976326 ,  7.295266  , 10.489705  ,  0.08926097,  0.02619608,\n",
              "         0.        ,  0.        ,  0.        ,  0.        ,  0.        ,\n",
              "         0.        ,  0.        ,  0.        ],\n",
              "       [ 0.        ,  0.        ,  0.        ,  0.        ,  0.        ,\n",
              "         0.        ,  0.        ,  0.        ,  0.        ,  0.        ,\n",
              "         0.        ,  9.561993  ,  0.        ,  2.9489982 ,  4.0074925 ,\n",
              "         4.6135488 ,  0.        ,  7.3005357 ,  0.20304227,  7.7462726 ,\n",
              "         0.        ,  0.        ,  0.        ,  0.        ,  0.        ,\n",
              "         0.        ,  0.        ,  0.        ],\n",
              "       [ 0.        ,  0.        ,  0.        ,  0.        ,  0.        ,\n",
              "         0.        ,  0.        ,  0.        ,  0.        ,  0.        ,\n",
              "         0.3634339 ,  0.        ,  0.        ,  7.882284  ,  0.        ,\n",
              "         0.        ,  0.        ,  1.8546103 ,  0.        ,  0.        ,\n",
              "         0.        ,  0.        ,  0.        ,  0.        ,  0.        ,\n",
              "         0.        ,  0.        ,  0.        ],\n",
              "       [ 0.        ,  0.        ,  0.        ,  0.        ,  0.        ,\n",
              "         0.        ,  0.        ,  0.        ,  2.1764646 ,  1.4884026 ,\n",
              "         6.0033274 ,  0.        ,  6.879833  ,  0.        ,  0.        ,\n",
              "         0.        ,  0.        ,  0.        ,  8.567849  ,  0.        ,\n",
              "         6.2779074 ,  0.34620363, 15.370678  ,  0.        ,  0.        ,\n",
              "         0.        ,  0.        ,  0.        ],\n",
              "       [ 0.        ,  0.        ,  0.        ,  0.        ,  0.        ,\n",
              "         0.        ,  0.        ,  5.897476  ,  0.        ,  0.        ,\n",
              "         4.46612   ,  3.6092637 ,  0.        ,  0.        ,  0.        ,\n",
              "         0.        ,  2.9971666 ,  0.        ,  0.        ,  0.        ,\n",
              "         0.        ,  6.0474896 ,  6.1999145 ,  5.118044  ,  0.        ,\n",
              "         0.        ,  0.        ,  0.        ],\n",
              "       [ 0.        ,  0.        ,  0.        ,  0.        ,  0.        ,\n",
              "         0.        ,  4.483224  ,  0.        ,  0.        ,  1.0724988 ,\n",
              "        14.0801735 ,  0.        ,  0.        ,  0.        ,  0.        ,\n",
              "         0.        ,  0.        ,  0.        ,  0.        ,  2.2626665 ,\n",
              "         5.7899404 ,  0.        ,  0.        ,  6.70634   ,  0.        ,\n",
              "         0.        ,  0.        ,  0.        ],\n",
              "       [ 0.        ,  0.        ,  0.        ,  0.        ,  0.        ,\n",
              "         0.        ,  0.18264699,  1.0310638 ,  0.        , 12.848925  ,\n",
              "         4.3117013 ,  0.        ,  0.        ,  5.934571  ,  0.        ,\n",
              "         0.        ,  0.        ,  0.        ,  0.        ,  0.49163583,\n",
              "         7.312497  ,  0.        ,  2.4108474 ,  0.        ,  0.        ,\n",
              "         0.        ,  0.        ,  0.        ],\n",
              "       [ 0.        ,  0.        ,  0.        ,  0.        ,  0.        ,\n",
              "         0.        ,  0.        ,  0.        ,  3.459176  ,  5.9755406 ,\n",
              "         2.8750412 ,  1.8920779 ,  0.        ,  0.        ,  0.        ,\n",
              "         0.        ,  0.        ,  0.        ,  0.        ,  3.6955063 ,\n",
              "         0.6867288 ,  0.        ,  0.        ,  0.        ,  0.        ,\n",
              "         0.        ,  0.        ,  0.        ],\n",
              "       [ 0.        ,  0.        ,  0.        ,  0.        ,  0.        ,\n",
              "         0.        ,  4.84038   ,  0.        ,  6.2053676 ,  9.275244  ,\n",
              "         0.        ,  0.        ,  0.        ,  0.        ,  0.        ,\n",
              "         0.        ,  0.        ,  0.        ,  0.        ,  3.7921815 ,\n",
              "         0.        ,  5.8769855 ,  0.        ,  0.        ,  0.        ,\n",
              "         0.        ,  0.        ,  0.        ],\n",
              "       [ 0.        ,  0.        ,  0.        ,  0.        ,  0.        ,\n",
              "         7.510974  ,  0.        ,  0.        ,  1.741422  ,  0.        ,\n",
              "         0.        ,  0.        ,  0.        ,  0.        ,  0.        ,\n",
              "         0.        ,  0.        ,  0.        ,  4.8173475 ,  0.        ,\n",
              "         0.        , 10.174105  ,  3.6537051 ,  0.        ,  0.        ,\n",
              "         0.        ,  0.        ,  0.        ],\n",
              "       [ 0.        ,  0.        ,  0.        ,  0.        ,  0.        ,\n",
              "         2.0639787 ,  1.8730189 ,  0.        ,  0.        ,  0.        ,\n",
              "         0.        ,  0.        ,  0.        ,  0.        ,  0.        ,\n",
              "         0.        ,  0.        ,  0.        ,  3.9973605 ,  0.        ,\n",
              "         8.874786  ,  1.399181  ,  5.9184685 ,  0.        ,  0.        ,\n",
              "         0.        ,  0.        ,  0.        ],\n",
              "       [ 0.        ,  0.        ,  0.        ,  0.        ,  0.        ,\n",
              "         0.        ,  0.        ,  3.7197723 ,  0.71165854,  7.4820085 ,\n",
              "         8.331977  ,  0.        ,  0.        ,  0.        ,  0.        ,\n",
              "         2.5163465 ,  0.        ,  0.        ,  9.28519   ,  0.        ,\n",
              "         9.445594  ,  0.        ,  0.        ,  0.        ,  0.        ,\n",
              "         0.        ,  0.        ,  0.        ],\n",
              "       [ 0.        ,  0.        ,  0.        ,  0.        ,  0.        ,\n",
              "         0.        ,  0.        ,  0.        , 11.056775  ,  0.        ,\n",
              "         6.1051397 ,  8.019839  ,  8.330655  ,  0.        ,  0.        ,\n",
              "        10.199191  ,  0.        ,  5.1261272 , 14.572533  ,  0.        ,\n",
              "         0.        ,  0.        ,  0.        ,  0.        ,  0.        ,\n",
              "         0.        ,  0.        ,  0.        ],\n",
              "       [ 0.        ,  0.        ,  0.        ,  0.        ,  0.        ,\n",
              "         0.        ,  0.        ,  0.        ,  0.        ,  0.        ,\n",
              "        10.938883  ,  3.2102876 ,  3.3664844 ,  0.33644974,  0.        ,\n",
              "         0.        ,  4.3073287 ,  7.3630166 ,  2.604641  ,  5.654503  ,\n",
              "         0.        ,  2.4173832 ,  0.        ,  0.        ,  0.        ,\n",
              "         0.        ,  0.        ,  0.        ],\n",
              "       [ 0.        ,  0.        ,  0.        ,  0.        ,  0.        ,\n",
              "         0.        ,  0.        ,  0.        ,  0.        ,  6.2005115 ,\n",
              "         2.1180394 , 14.697399  , 10.690872  , 10.122553  ,  0.        ,\n",
              "         5.834344  ,  6.736168  ,  0.        ,  0.        ,  0.        ,\n",
              "         0.        ,  0.        ,  0.        ,  0.        ,  0.        ,\n",
              "         0.        ,  0.        ,  0.        ],\n",
              "       [ 0.        ,  0.        ,  0.        ,  0.        ,  0.        ,\n",
              "         0.        ,  0.        ,  0.        ,  0.        ,  5.3210497 ,\n",
              "        12.679074  ,  0.4608627 ,  0.12544432,  6.226555  ,  9.936111  ,\n",
              "         0.        ,  0.        ,  2.7851665 ,  0.        ,  0.        ,\n",
              "         0.        ,  0.        ,  0.        ,  0.        ,  0.        ,\n",
              "         0.        ,  0.        ,  0.        ],\n",
              "       [ 0.        ,  0.        ,  0.        ,  0.        ,  0.        ,\n",
              "         0.        ,  0.        ,  0.        ,  0.        ,  0.        ,\n",
              "         7.506053  ,  0.        , 10.147978  ,  0.        ,  0.        ,\n",
              "         0.        ,  0.        ,  0.        ,  0.        ,  0.        ,\n",
              "         0.        ,  0.        ,  0.        ,  0.        ,  0.        ,\n",
              "         0.        ,  0.        ,  0.        ],\n",
              "       [ 0.        ,  0.        ,  0.        ,  0.        ,  0.        ,\n",
              "         0.        ,  0.        ,  0.        ,  0.        ,  0.        ,\n",
              "         0.        ,  0.        ,  0.        ,  0.        , 13.822131  ,\n",
              "         0.        ,  0.        ,  0.        ,  0.        ,  0.        ,\n",
              "         0.        ,  0.        ,  0.        ,  0.        ,  0.        ,\n",
              "         0.        ,  0.        ,  0.        ],\n",
              "       [ 0.        ,  0.        ,  0.        ,  0.        ,  0.        ,\n",
              "         0.        ,  0.        ,  0.        ,  0.        ,  0.        ,\n",
              "         0.        ,  0.        ,  0.        ,  0.        ,  0.        ,\n",
              "         0.        ,  0.        ,  0.        ,  0.        ,  0.        ,\n",
              "         0.        ,  0.        ,  0.        ,  0.        ,  0.        ,\n",
              "         0.        ,  0.        ,  0.        ],\n",
              "       [ 0.        ,  0.        ,  0.        ,  0.        ,  0.        ,\n",
              "         0.        ,  0.        ,  0.        ,  0.        ,  0.        ,\n",
              "         0.        ,  0.        ,  0.        ,  0.        ,  0.        ,\n",
              "         0.        ,  0.        ,  0.        ,  0.        ,  0.        ,\n",
              "         0.        ,  0.        ,  0.        ,  0.        ,  0.        ,\n",
              "         0.        ,  0.        ,  0.        ],\n",
              "       [ 0.        ,  0.        ,  0.        ,  0.        ,  0.        ,\n",
              "         0.        ,  0.        ,  0.        ,  0.        ,  0.5762752 ,\n",
              "         0.        ,  0.        ,  0.        ,  0.        ,  0.        ,\n",
              "         0.        ,  0.        ,  0.        ,  0.        ,  0.        ,\n",
              "         0.        ,  0.        ,  0.        ,  0.        ,  0.        ,\n",
              "         0.        ,  0.        ,  0.        ]], dtype=float32)>"
            ]
          },
          "metadata": {},
          "execution_count": 68
        }
      ]
    },
    {
      "cell_type": "code",
      "source": [
        "for i in range(10):\n",
        "  plt.imshow(images[i])\n",
        "  plt.show()"
      ],
      "metadata": {
        "colab": {
          "base_uri": "https://localhost:8080/",
          "height": 1000
        },
        "id": "v22ZP3paaiK1",
        "outputId": "d946ff9c-e213-4a3e-f593-3559a851e28e"
      },
      "execution_count": 69,
      "outputs": [
        {
          "output_type": "display_data",
          "data": {
            "text/plain": [
              "<Figure size 640x480 with 1 Axes>"
            ],
            "image/png": "[encoded data removed]"
          },
          "metadata": {}
        },
        {
          "output_type": "display_data",
          "data": {
            "text/plain": [
              "<Figure size 640x480 with 1 Axes>"
            ],
            "image/png": "[encoded data removed]"
          },
          "metadata": {}
        },
        {
          "output_type": "display_data",
          "data": {
            "text/plain": [
              "<Figure size 640x480 with 1 Axes>"
            ],
            "image/png": "[encoded data removed]"
          },
          "metadata": {}
        },
        {
          "output_type": "display_data",
          "data": {
            "text/plain": [
              "<Figure size 640x480 with 1 Axes>"
            ],
            "image/png": "[encoded data removed]"
          },
          "metadata": {}
        },
        {
          "output_type": "display_data",
          "data": {
            "text/plain": [
              "<Figure size 640x480 with 1 Axes>"
            ],
            "image/png": "[encoded data removed]"
          },
          "metadata": {}
        },
        {
          "output_type": "display_data",
          "data": {
            "text/plain": [
              "<Figure size 640x480 with 1 Axes>"
            ],
            "image/png": "[encoded data removed]"
          },
          "metadata": {}
        },
        {
          "output_type": "display_data",
          "data": {
            "text/plain": [
              "<Figure size 640x480 with 1 Axes>"
            ],
            "image/png": "[encoded data removed]"
          },
          "metadata": {}
        },
        {
          "output_type": "display_data",
          "data": {
            "text/plain": [
              "<Figure size 640x480 with 1 Axes>"
            ],
            "image/png": "[encoded data removed]"
          },
          "metadata": {}
        },
        {
          "output_type": "display_data",
          "data": {
            "text/plain": [
              "<Figure size 640x480 with 1 Axes>"
            ],
            "image/png": "[encoded data removed]"
          },
          "metadata": {}
        },
        {
          "output_type": "display_data",
          "data": {
            "text/plain": [
              "<Figure size 640x480 with 1 Axes>"
            ],
            "image/png": "[encoded data removed]"
          },
          "metadata": {}
        }
      ]
    },
    {
      "cell_type": "markdown",
      "source": [
        "This is mode collapse"
      ],
      "metadata": {
        "id": "_2cr0KLVa3Gb"
      }
    },
    {
      "cell_type": "code",
      "source": [],
      "metadata": {
        "id": "l69X7bqDa26s"
      },
      "execution_count": null,
      "outputs": []
    },
    {
      "cell_type": "code",
      "source": [],
      "metadata": {
        "id": "O3SOKbTvakgW"
      },
      "execution_count": null,
      "outputs": []
    }
  ]
}